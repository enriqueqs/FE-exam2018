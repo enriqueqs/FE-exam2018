{
 "cells": [
  {
   "cell_type": "code",
   "execution_count": 2,
   "metadata": {},
   "outputs": [
    {
     "data": {
      "text/plain": [
       "0.053750000000000006"
      ]
     },
     "execution_count": 2,
     "metadata": {},
     "output_type": "execute_result"
    }
   ],
   "source": [
    "duration= 5\n",
    "convexity = 75\n",
    "yieldchange = -0.01\n",
    "\n",
    "def changevalue(duration,convexity,yieldchange):\n",
    "    return -(duration*yieldchange)+0.5*convexity*yieldchange**2\n",
    "\n",
    "changevalue(duration,convexity,yieldchange)"
   ]
  },
  {
   "cell_type": "markdown",
   "metadata": {},
   "source": [
    "### From daily to yearly"
   ]
  },
  {
   "cell_type": "markdown",
   "metadata": {},
   "source": [
    "For average returns\n",
    "$$\\bar{R}^{A}=\\left(1+\\bar{R}^{W}\\right)^{52}-1=\\left(1+\\bar{R}^{D}\\right)^{252}-1$$\n",
    "\n",
    "\n",
    "If you have log returns, you can simply use the arithmetic average (calculated by prices):\n",
    "$$\\bar{r}=\\frac{1}{k} \\sum_{i=1}^{N} r_{t-i+1}$$\n",
    "and to annualise\n",
    "$$\\bar{r}^{A}=52 \\times \\bar{r}^{W}=252 \\times \\bar{r}^{D}$$"
   ]
  },
  {
   "cell_type": "code",
   "execution_count": 5,
   "metadata": {},
   "outputs": [
    {
     "name": "stdout",
     "output_type": "stream",
     "text": [
      "0.22325997172399203\n",
      "0.042460066945947395\n"
     ]
    }
   ],
   "source": [
    "r_daily=0.0008\n",
    "\n",
    "r_yearly=(1+r_daily)**252-1\n",
    "print(r_yearly)\n",
    "r_weekly = (1+r_daily)**52-1\n",
    "print(r_weekly)"
   ]
  },
  {
   "cell_type": "code",
   "execution_count": 4,
   "metadata": {},
   "outputs": [
    {
     "data": {
      "text/plain": [
       "0.19561817146153393"
      ]
     },
     "execution_count": 4,
     "metadata": {},
     "output_type": "execute_result"
    }
   ],
   "source": [
    "r_monthly1=0.015\n",
    "r_yearly1 = (1+r_monthly1)**12-1\n",
    "r_yearly1\n"
   ]
  },
  {
   "cell_type": "markdown",
   "metadata": {},
   "source": [
    "Standard deviation $$\\sigma_Y^2=252\\sigma_D^2$$"
   ]
  },
  {
   "cell_type": "code",
   "execution_count": 7,
   "metadata": {},
   "outputs": [
    {
     "name": "stdout",
     "output_type": "stream",
     "text": [
      "0.35496478698597694\n"
     ]
    }
   ],
   "source": [
    "import numpy as np\n",
    "\n",
    "var_daily=0.0005\n",
    "var_yearly= var_daily*252\n",
    "std_yearly=np.sqrt(var_yearly)\n",
    "print(std_yearly)"
   ]
  },
  {
   "cell_type": "code",
   "execution_count": 9,
   "metadata": {},
   "outputs": [
    {
     "name": "stdout",
     "output_type": "stream",
     "text": [
      "0.36055512754639896\n"
     ]
    }
   ],
   "source": [
    "std_weekly=0.05\n",
    "std_yearly1=std_weekly*np.sqrt(52)\n",
    "print(std_yearly1)"
   ]
  },
  {
   "cell_type": "markdown",
   "metadata": {},
   "source": [
    "# Two assets portfolio\n",
    "\n",
    "$$\\begin{aligned} A &=\\left[\\begin{array}{llll}{\\mu} & {1}\\end{array}\\right]^{\\prime} \\Sigma^{-1}\\left[\\begin{array}{ll}{\\mu} & {1}\\end{array}\\right] \\\\ &=\\left[\\begin{array}{lll}{\\mu^{\\prime} \\Sigma^{-1} \\mu} & {\\mu^{\\prime} \\Sigma^{-1} 1} \\\\ {\\mu^{\\prime} \\Sigma^{-1} 1} & {1^{\\prime} \\Sigma^{-1} 1}\\end{array}\\right]:=\\left[\\begin{array}{ll}{a} & {b} \\\\ {b} & {c}\\end{array}\\right] \\end{aligned}$$\n",
    "and the inverse of a is:\n",
    "$$A^{-1}=\\frac{1}{a c-b^{2}}\\left[\\begin{array}{cc}{c} & {-b} \\\\ {-b} & {a}\\end{array}\\right]$$"
   ]
  },
  {
   "cell_type": "code",
   "execution_count": 45,
   "metadata": {},
   "outputs": [],
   "source": [
    "mu_1=0.31\n",
    "mu_2=0.43\n",
    "std_1=0.27\n",
    "std_2= 0.45\n",
    "corr = 0.64\n",
    "def MUmat(mu1,mu2):\n",
    "    return np.array([[mu1,1],[mu2,1]])\n",
    "\n",
    "mu_matrix1=MUmat(mu_1,mu_2)\n",
    "\n",
    "def Emat(std1,std2,correlation):\n",
    "    return np.array([[std1**2,correlation*std1*std2],[correlation*std1*std2,std2**2]])"
   ]
  },
  {
   "cell_type": "code",
   "execution_count": 46,
   "metadata": {},
   "outputs": [
    {
     "data": {
      "text/plain": [
       "array([[0.0729 , 0.07776],\n",
       "       [0.07776, 0.2025 ]])"
      ]
     },
     "execution_count": 46,
     "metadata": {},
     "output_type": "execute_result"
    }
   ],
   "source": [
    "E = Emat(std_1,std_2,corr)\n",
    "E"
   ]
  },
  {
   "cell_type": "code",
   "execution_count": 47,
   "metadata": {},
   "outputs": [],
   "source": [
    "def Amat(mu_matrix,SIGMAmatrix):\n",
    "    return np.dot(np.transpose(mu_matrix),np.dot(np.linalg.inv(SIGMAmatrix),mu_matrix))\n",
    "\n",
    "A= Amat(mu_matrix1,E)"
   ]
  },
  {
   "cell_type": "code",
   "execution_count": 71,
   "metadata": {},
   "outputs": [
    {
     "data": {
      "text/plain": [
       "array([[ 1.40077546,  4.19701042],\n",
       "       [ 4.19701042, 13.75459571]])"
      ]
     },
     "execution_count": 71,
     "metadata": {},
     "output_type": "execute_result"
    }
   ],
   "source": [
    "A"
   ]
  },
  {
   "cell_type": "code",
   "execution_count": 48,
   "metadata": {},
   "outputs": [
    {
     "data": {
      "text/plain": [
       "array([[0.31, 1.  ],\n",
       "       [0.43, 1.  ]])"
      ]
     },
     "execution_count": 48,
     "metadata": {},
     "output_type": "execute_result"
    }
   ],
   "source": [
    "mu_matrix1"
   ]
  },
  {
   "cell_type": "markdown",
   "metadata": {},
   "source": [
    "### Efficient Frontier\n",
    "Standard deviation as a function of portfolio return:\n",
    "$$\\sigma_{P}=\\sqrt{\\frac{c \\mu_{P}^{2}-2 b \\mu_{P}+a}{a c-b^{2}}}$$\n",
    "\n",
    "Global minimum variance portfolio\n",
    "$$\\mu_{g m v}=b / c$$\n",
    "$$\\sigma_{g m v}^{2}=1 / c$$"
   ]
  },
  {
   "cell_type": "code",
   "execution_count": 63,
   "metadata": {},
   "outputs": [
    {
     "name": "stdout",
     "output_type": "stream",
     "text": [
      "0.3051351351351351\n",
      "0.26963488827110815\n"
     ]
    }
   ],
   "source": [
    "mu_gmv=A[0,1]/A[1,1]\n",
    "print(mu_gmv)\n",
    "std_gmv= 1/np.sqrt(A[1,1])\n",
    "print(std_gmv)\n"
   ]
  },
  {
   "cell_type": "code",
   "execution_count": 51,
   "metadata": {},
   "outputs": [
    {
     "name": "stdout",
     "output_type": "stream",
     "text": [
      "[ 1.04054054 -0.04054054]\n"
     ]
    }
   ],
   "source": [
    "weights= (1/A[1,1])*np.dot(np.linalg.inv(E),np.ones(2))\n",
    "print(weights)"
   ]
  },
  {
   "cell_type": "code",
   "execution_count": 53,
   "metadata": {},
   "outputs": [],
   "source": [
    "def muexcess(mu1,mu2,riskfree):\n",
    "    return np.array([mu1-riskfree,mu2-riskfree])"
   ]
  },
  {
   "cell_type": "code",
   "execution_count": 54,
   "metadata": {},
   "outputs": [],
   "source": [
    "rf=0.1\n",
    "mu_e=muexcess(mu_1,mu_2,rf)"
   ]
  },
  {
   "cell_type": "markdown",
   "metadata": {},
   "source": [
    "the optimal portfolio weights for specific expected excess return $\\mu_P^e$ is:\n",
    "$$\\boldsymbol{w}=\\boldsymbol{\\Sigma}^{-1} \\boldsymbol{\\mu}^{e} \\frac{\\mu_{P}^{e}}{\\left(\\boldsymbol{\\mu}^{e}\\right)^{\\top} \\boldsymbol{\\Sigma}^{-1} \\boldsymbol{\\mu}^{e}}$$\n",
    "\n",
    "it follows that minimal portfolio variance for specific expected excess return $\\mu_P^e$ is:\n",
    "$$\\sigma_{P}^{2}=\\frac{\\left(\\mu_{P}^{e}\\right)^{2}}{\\left(\\mu^{e}\\right)^{\\top} \\Sigma^{-1} \\mu^{e}}$$\n",
    "\n",
    "The link between $\\sigma_P$ and of  $\\mu_P^e$ is:\n",
    "$$\\sigma_{P}=\\frac{\\mu_{P}^{e}}{\\sqrt{\\left(\\boldsymbol{\\mu}^{e}\\right)^{\\top} \\boldsymbol{\\Sigma}^{-1} \\boldsymbol{\\mu}^{e}}}$$\n",
    "or equivalently (this is called the Capital Market Line):\n",
    "$$\\mu_{P}=\\sigma_{P} \\sqrt{\\left(\\boldsymbol{\\mu}^{e}\\right)^{\\top} \\boldsymbol{\\Sigma}^{-1} \\boldsymbol{\\mu}^{e}}+\\mu_{0}$$\n",
    "\n",
    "### Tangent Portfolio\n",
    "The portfolio where everything is invested in risky assets is called the tangent portfolio. The excess return of the tangent portfolio is:\n",
    "$$\\mu_{\\tan }^{e}=\\frac{\\left(\\boldsymbol{\\mu}^{e}\\right)^{\\top} \\boldsymbol{\\Sigma}^{-1} \\boldsymbol{\\mu}^{e}}{\\mathbf{1}^{\\prime} \\boldsymbol{\\Sigma}^{-1} \\boldsymbol{\\mu}^{e}}$$\n",
    "with:\n",
    "$$\\begin{array}{l}{\\sigma_{t a n}=\\frac{\\sqrt{\\left(\\boldsymbol{\\mu}^{e}\\right)^{\\top} \\boldsymbol{\\Sigma}^{-1} \\boldsymbol{\\mu}^{e}}}{\\mathbf{1}^{\\prime} \\boldsymbol{\\Sigma}^{-1} \\boldsymbol{\\mu}^{e}}} \\\\ {\\boldsymbol{w}_{t a n}=\\boldsymbol{\\Sigma}^{-1} \\boldsymbol{\\mu}^{e} \\frac{1}{\\mathbf{1}^{\\top} \\boldsymbol{\\Sigma}^{-1} \\boldsymbol{\\mu}^{e}}}\\end{array}$$"
   ]
  },
  {
   "cell_type": "code",
   "execution_count": 57,
   "metadata": {},
   "outputs": [
    {
     "data": {
      "text/plain": [
       "0.24770750988142287"
      ]
     },
     "execution_count": 57,
     "metadata": {},
     "output_type": "execute_result"
    }
   ],
   "source": [
    "mue_tan=(np.dot(np.transpose(mu_e),np.dot(np.linalg.inv(E),mu_e)))/(np.dot(np.ones(2),np.dot(np.linalg.inv(E),mu_e)))\n",
    "mue_tan"
   ]
  },
  {
   "cell_type": "code",
   "execution_count": 59,
   "metadata": {},
   "outputs": [
    {
     "data": {
      "text/plain": [
       "0.2962959027898122"
      ]
     },
     "execution_count": 59,
     "metadata": {},
     "output_type": "execute_result"
    }
   ],
   "source": [
    "std_tan=np.sqrt(np.dot(np.transpose(mu_e),np.dot(np.linalg.inv(E),mu_e)))/(np.dot(np.ones(2),np.dot(np.linalg.inv(E),mu_e)))\n",
    "std_tan"
   ]
  },
  {
   "cell_type": "code",
   "execution_count": 60,
   "metadata": {},
   "outputs": [
    {
     "data": {
      "text/plain": [
       "array([0.68577075, 0.31422925])"
      ]
     },
     "execution_count": 60,
     "metadata": {},
     "output_type": "execute_result"
    }
   ],
   "source": [
    "w_tan=(np.dot(np.linalg.inv(E),mu_e))/(np.dot(np.ones(2),np.dot(np.linalg.inv(E),mu_e)))\n",
    "w_tan"
   ]
  },
  {
   "cell_type": "code",
   "execution_count": 70,
   "metadata": {},
   "outputs": [
    {
     "name": "stdout",
     "output_type": "stream",
     "text": [
      "Sharpe Ratio asset 1: 0.777778\n",
      "Sharpe Ratio asset 2: 0.733333\n",
      "Sharpe Ratio Global minimum variance: 0.760789\n",
      "Sharpe Ratio Tangent portfolio: 0.836014\n"
     ]
    }
   ],
   "source": [
    "SR_1=(mu_1-rf)/std_1\n",
    "print('Sharpe Ratio asset 1: %f'%SR_1)\n",
    "SR_2=(mu_2-rf)/std_2\n",
    "print('Sharpe Ratio asset 2: %f'%SR_2)\n",
    "SR_gmv=(mu_gmv-rf)/std_gmv\n",
    "print('Sharpe Ratio Global minimum variance: %f'%SR_gmv)\n",
    "SR_tan=(mue_tan)/std_tan\n",
    "print('Sharpe Ratio Tangent portfolio: %f'%SR_tan)\n",
    "\n"
   ]
  },
  {
   "cell_type": "code",
   "execution_count": null,
   "metadata": {},
   "outputs": [],
   "source": []
  }
 ],
 "metadata": {
  "kernelspec": {
   "display_name": "Python 3",
   "language": "python",
   "name": "python3"
  },
  "language_info": {
   "codemirror_mode": {
    "name": "ipython",
    "version": 3
   },
   "file_extension": ".py",
   "mimetype": "text/x-python",
   "name": "python",
   "nbconvert_exporter": "python",
   "pygments_lexer": "ipython3",
   "version": "3.7.3"
  }
 },
 "nbformat": 4,
 "nbformat_minor": 4
}
